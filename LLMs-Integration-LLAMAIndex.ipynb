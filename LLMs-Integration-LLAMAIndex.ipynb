{
 "cells": [
  {
   "cell_type": "markdown",
   "metadata": {},
   "source": [
    "# LLM integrations with LLAMA Index\n",
    "## Complete | Chat | Streaming"
   ]
  },
  {
   "cell_type": "markdown",
   "metadata": {},
   "source": [
    "### AI21 (https://docs.llamaindex.ai/en/stable/examples/llm/ai21.html)\n",
    "### Anthropic (https://docs.llamaindex.ai/en/stable/examples/llm/anthropic.html)\n",
    "### AnyScale (https://docs.llamaindex.ai/en/stable/examples/llm/anyscale.html)\n",
    "### AWS Bedrock (https://docs.llamaindex.ai/en/stable/examples/llm/bedrock.html)\n",
    "### Clarifai (https://docs.llamaindex.ai/en/stable/examples/llm/clarifai.html)\n",
    "### Cohere (https://docs.llamaindex.ai/en/stable/examples/llm/cohere.html)\n",
    "### EverlyAI (https://docs.llamaindex.ai/en/stable/examples/llm/everlyai.html)\n",
    "### Gradient (https://docs.llamaindex.ai/en/stable/examples/llm/gradient_base_model.html),(https://docs.llamaindex.ai/en/stable/examples/llm/gradient_model_adapter.html)\n",
    "### HuggingFace (https://docs.llamaindex.ai/en/stable/examples/customization/llms/SimpleIndexDemo-Huggingface_camel.html), (https://docs.llamaindex.ai/en/stable/examples/customization/llms/SimpleIndexDemo-Huggingface_stablelm.html), (https://docs.llamaindex.ai/en/stable/examples/vector_stores/SimpleIndexDemoLlama-Local.html)\n",
    "### Konko (https://docs.llamaindex.ai/en/stable/examples/llm/konko.html)\n",
    "### Langchain (https://docs.llamaindex.ai/en/stable/examples/llm/langchain.html)\n",
    "### LiteLLM (https://docs.llamaindex.ai/en/stable/examples/llm/litellm.html)\n",
    "### LLAMA API (https://docs.llamaindex.ai/en/stable/examples/llm/llama_api.html)\n",
    "### LLAMA CPP (https://docs.llamaindex.ai/en/stable/examples/llm/llama_2_llama_cpp.html)\n",
    "### LocalAI (https://docs.llamaindex.ai/en/stable/examples/llm/localai.html)\n",
    "### MistralAI (https://docs.llamaindex.ai/en/stable/examples/llm/mistralai.html)\n",
    "### Monster API (https://docs.llamaindex.ai/en/stable/examples/llm/monsterapi.html)\n",
    "### Neutrino AI (https://docs.llamaindex.ai/en/stable/examples/llm/neutrino.html)\n",
    "### Nvidia TensorRT (https://docs.llamaindex.ai/en/stable/examples/llm/nvidia_tensorrt.html)\n",
    "### Nvidia Triton (https://docs.llamaindex.ai/en/stable/examples/llm/nvidia_triton.html)\n",
    "### OLLAMA (https://docs.llamaindex.ai/en/stable/examples/llm/ollama.html)\n",
    "### OpenAI (https://docs.llamaindex.ai/en/stable/examples/llm/openai.html)\n",
    "### Azure OpenAI (https://docs.llamaindex.ai/en/stable/examples/llm/azure_openai.html)\n",
    "### OpenLLM (https://docs.llamaindex.ai/en/stable/examples/llm/openllm.html)\n",
    "### OpenRouter (https://docs.llamaindex.ai/en/stable/examples/llm/openrouter.html)\n",
    "### PaLM (https://docs.llamaindex.ai/en/stable/examples/llm/palm.html)\n",
    "### Perplexity (https://docs.llamaindex.ai/en/stable/examples/llm/perplexity.html)\n",
    "### PortKey (https://docs.llamaindex.ai/en/stable/examples/llm/portkey.html)\n",
    "### Predibase (https://docs.llamaindex.ai/en/stable/examples/llm/predibase.html)\n",
    "### Replicate (https://docs.llamaindex.ai/en/stable/examples/llm/llama_2.html), (https://docs.llamaindex.ai/en/stable/examples/llm/vicuna.html), (https://docs.llamaindex.ai/en/stable/examples/vector_stores/SimpleIndexDemoLlama2.html)\n",
    "### RunGPT (https://docs.llamaindex.ai/en/stable/examples/llm/rungpt.html)\n",
    "### AWS Sagemaker (https://docs.llamaindex.ai/en/stable/examples/llm/sagemaker_endpoint_llm.html)\n",
    "### TogetherAI (https://docs.llamaindex.ai/en/stable/examples/llm/together.html)\n",
    "### Xorbits Inference (https://docs.llamaindex.ai/en/stable/examples/llm/xinference_local_deployment.html)\n",
    "### vLLM (https://docs.llamaindex.ai/en/stable/examples/llm/vllm.html)\n",
    "### Vertex (https://docs.llamaindex.ai/en/stable/examples/llm/vertex.html)"
   ]
  },
  {
   "cell_type": "markdown",
   "metadata": {},
   "source": []
  }
 ],
 "metadata": {
  "language_info": {
   "name": "python"
  }
 },
 "nbformat": 4,
 "nbformat_minor": 2
}
